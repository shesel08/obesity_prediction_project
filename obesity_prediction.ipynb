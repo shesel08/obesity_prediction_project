{
 "cells": [
  {
   "cell_type": "code",
   "execution_count": 1,
   "metadata": {
    "executionInfo": {
     "elapsed": 2591,
     "status": "ok",
     "timestamp": 1712928015687,
     "user": {
      "displayName": "Sheema Selvam",
      "userId": "16791162416401843902"
     },
     "user_tz": 240
    },
    "id": "JWJUP1Vw2hkp"
   },
   "outputs": [],
   "source": [
    "import pandas as pd\n",
    "import seaborn as sns\n",
    "import matplotlib.pyplot as plt\n",
    "\n",
    "from sklearn.preprocessing import LabelEncoder\n",
    "from sklearn.model_selection import train_test_split, StratifiedKFold\n",
    "from sklearn.tree import DecisionTreeClassifier\n",
    "from tqdm import tqdm\n",
    "from sklearn.metrics import classification_report,confusion_matrix\n",
    "from sklearn.metrics import accuracy_score"
   ]
  },
  {
   "cell_type": "code",
   "execution_count": 2,
   "metadata": {
    "colab": {
     "base_uri": "https://localhost:8080/",
     "height": 321
    },
    "executionInfo": {
     "elapsed": 165,
     "status": "error",
     "timestamp": 1712928030032,
     "user": {
      "displayName": "Sheema Selvam",
      "userId": "16791162416401843902"
     },
     "user_tz": 240
    },
    "id": "PDfQE4LRbxuN",
    "outputId": "c8c1bbd0-bea4-4f26-cdaa-466130122de1"
   },
   "outputs": [
    {
     "data": {
      "text/html": [
       "<div>\n",
       "<style scoped>\n",
       "    .dataframe tbody tr th:only-of-type {\n",
       "        vertical-align: middle;\n",
       "    }\n",
       "\n",
       "    .dataframe tbody tr th {\n",
       "        vertical-align: top;\n",
       "    }\n",
       "\n",
       "    .dataframe thead th {\n",
       "        text-align: right;\n",
       "    }\n",
       "</style>\n",
       "<table border=\"1\" class=\"dataframe\">\n",
       "  <thead>\n",
       "    <tr style=\"text-align: right;\">\n",
       "      <th></th>\n",
       "      <th>Age</th>\n",
       "      <th>Gender</th>\n",
       "      <th>Height</th>\n",
       "      <th>Weight</th>\n",
       "      <th>BMI</th>\n",
       "      <th>PhysicalActivityLevel</th>\n",
       "      <th>ObesityCategory</th>\n",
       "    </tr>\n",
       "  </thead>\n",
       "  <tbody>\n",
       "    <tr>\n",
       "      <th>0</th>\n",
       "      <td>56</td>\n",
       "      <td>Male</td>\n",
       "      <td>173.575262</td>\n",
       "      <td>71.982051</td>\n",
       "      <td>23.891783</td>\n",
       "      <td>4</td>\n",
       "      <td>Normal weight</td>\n",
       "    </tr>\n",
       "    <tr>\n",
       "      <th>1</th>\n",
       "      <td>69</td>\n",
       "      <td>Male</td>\n",
       "      <td>164.127306</td>\n",
       "      <td>89.959256</td>\n",
       "      <td>33.395209</td>\n",
       "      <td>2</td>\n",
       "      <td>Obese</td>\n",
       "    </tr>\n",
       "    <tr>\n",
       "      <th>2</th>\n",
       "      <td>46</td>\n",
       "      <td>Female</td>\n",
       "      <td>168.072202</td>\n",
       "      <td>72.930629</td>\n",
       "      <td>25.817737</td>\n",
       "      <td>4</td>\n",
       "      <td>Overweight</td>\n",
       "    </tr>\n",
       "    <tr>\n",
       "      <th>3</th>\n",
       "      <td>32</td>\n",
       "      <td>Male</td>\n",
       "      <td>168.459633</td>\n",
       "      <td>84.886912</td>\n",
       "      <td>29.912247</td>\n",
       "      <td>3</td>\n",
       "      <td>Overweight</td>\n",
       "    </tr>\n",
       "    <tr>\n",
       "      <th>4</th>\n",
       "      <td>60</td>\n",
       "      <td>Male</td>\n",
       "      <td>183.568568</td>\n",
       "      <td>69.038945</td>\n",
       "      <td>20.487903</td>\n",
       "      <td>3</td>\n",
       "      <td>Normal weight</td>\n",
       "    </tr>\n",
       "  </tbody>\n",
       "</table>\n",
       "</div>"
      ],
      "text/plain": [
       "   Age  Gender      Height     Weight        BMI  PhysicalActivityLevel  \\\n",
       "0   56    Male  173.575262  71.982051  23.891783                      4   \n",
       "1   69    Male  164.127306  89.959256  33.395209                      2   \n",
       "2   46  Female  168.072202  72.930629  25.817737                      4   \n",
       "3   32    Male  168.459633  84.886912  29.912247                      3   \n",
       "4   60    Male  183.568568  69.038945  20.487903                      3   \n",
       "\n",
       "  ObesityCategory  \n",
       "0   Normal weight  \n",
       "1           Obese  \n",
       "2      Overweight  \n",
       "3      Overweight  \n",
       "4   Normal weight  "
      ]
     },
     "execution_count": 2,
     "metadata": {},
     "output_type": "execute_result"
    }
   ],
   "source": [
    "dataset = pd.read_csv('obesity_data.csv')\n",
    "dataset.head()"
   ]
  },
  {
   "cell_type": "code",
   "execution_count": 3,
   "metadata": {
    "id": "94jxHnpfcryp"
   },
   "outputs": [
    {
     "data": {
      "text/html": [
       "<div>\n",
       "<style scoped>\n",
       "    .dataframe tbody tr th:only-of-type {\n",
       "        vertical-align: middle;\n",
       "    }\n",
       "\n",
       "    .dataframe tbody tr th {\n",
       "        vertical-align: top;\n",
       "    }\n",
       "\n",
       "    .dataframe thead th {\n",
       "        text-align: right;\n",
       "    }\n",
       "</style>\n",
       "<table border=\"1\" class=\"dataframe\">\n",
       "  <thead>\n",
       "    <tr style=\"text-align: right;\">\n",
       "      <th></th>\n",
       "      <th>Age</th>\n",
       "      <th>Height</th>\n",
       "      <th>Weight</th>\n",
       "      <th>BMI</th>\n",
       "      <th>PhysicalActivityLevel</th>\n",
       "    </tr>\n",
       "  </thead>\n",
       "  <tbody>\n",
       "    <tr>\n",
       "      <th>count</th>\n",
       "      <td>1000.000000</td>\n",
       "      <td>1000.000000</td>\n",
       "      <td>1000.000000</td>\n",
       "      <td>1000.000000</td>\n",
       "      <td>1000.000000</td>\n",
       "    </tr>\n",
       "    <tr>\n",
       "      <th>mean</th>\n",
       "      <td>49.857000</td>\n",
       "      <td>170.052417</td>\n",
       "      <td>71.205769</td>\n",
       "      <td>24.888317</td>\n",
       "      <td>2.534000</td>\n",
       "    </tr>\n",
       "    <tr>\n",
       "      <th>std</th>\n",
       "      <td>18.114267</td>\n",
       "      <td>10.309971</td>\n",
       "      <td>15.509849</td>\n",
       "      <td>6.193912</td>\n",
       "      <td>1.116284</td>\n",
       "    </tr>\n",
       "    <tr>\n",
       "      <th>min</th>\n",
       "      <td>18.000000</td>\n",
       "      <td>136.115719</td>\n",
       "      <td>26.065730</td>\n",
       "      <td>8.470572</td>\n",
       "      <td>1.000000</td>\n",
       "    </tr>\n",
       "    <tr>\n",
       "      <th>25%</th>\n",
       "      <td>35.000000</td>\n",
       "      <td>163.514205</td>\n",
       "      <td>61.129629</td>\n",
       "      <td>20.918068</td>\n",
       "      <td>2.000000</td>\n",
       "    </tr>\n",
       "    <tr>\n",
       "      <th>50%</th>\n",
       "      <td>50.000000</td>\n",
       "      <td>169.801665</td>\n",
       "      <td>71.929072</td>\n",
       "      <td>24.698647</td>\n",
       "      <td>3.000000</td>\n",
       "    </tr>\n",
       "    <tr>\n",
       "      <th>75%</th>\n",
       "      <td>66.000000</td>\n",
       "      <td>177.353596</td>\n",
       "      <td>81.133746</td>\n",
       "      <td>28.732132</td>\n",
       "      <td>4.000000</td>\n",
       "    </tr>\n",
       "    <tr>\n",
       "      <th>max</th>\n",
       "      <td>79.000000</td>\n",
       "      <td>201.419670</td>\n",
       "      <td>118.907366</td>\n",
       "      <td>50.791898</td>\n",
       "      <td>4.000000</td>\n",
       "    </tr>\n",
       "  </tbody>\n",
       "</table>\n",
       "</div>"
      ],
      "text/plain": [
       "               Age       Height       Weight          BMI  \\\n",
       "count  1000.000000  1000.000000  1000.000000  1000.000000   \n",
       "mean     49.857000   170.052417    71.205769    24.888317   \n",
       "std      18.114267    10.309971    15.509849     6.193912   \n",
       "min      18.000000   136.115719    26.065730     8.470572   \n",
       "25%      35.000000   163.514205    61.129629    20.918068   \n",
       "50%      50.000000   169.801665    71.929072    24.698647   \n",
       "75%      66.000000   177.353596    81.133746    28.732132   \n",
       "max      79.000000   201.419670   118.907366    50.791898   \n",
       "\n",
       "       PhysicalActivityLevel  \n",
       "count            1000.000000  \n",
       "mean                2.534000  \n",
       "std                 1.116284  \n",
       "min                 1.000000  \n",
       "25%                 2.000000  \n",
       "50%                 3.000000  \n",
       "75%                 4.000000  \n",
       "max                 4.000000  "
      ]
     },
     "execution_count": 3,
     "metadata": {},
     "output_type": "execute_result"
    }
   ],
   "source": [
    "# Data Exploration\n",
    "dataset.describe()"
   ]
  },
  {
   "cell_type": "code",
   "execution_count": 4,
   "metadata": {
    "id": "MDMrA9iactzs"
   },
   "outputs": [
    {
     "name": "stdout",
     "output_type": "stream",
     "text": [
      "<class 'pandas.core.frame.DataFrame'>\n",
      "RangeIndex: 1000 entries, 0 to 999\n",
      "Data columns (total 7 columns):\n",
      " #   Column                 Non-Null Count  Dtype  \n",
      "---  ------                 --------------  -----  \n",
      " 0   Age                    1000 non-null   int64  \n",
      " 1   Gender                 1000 non-null   object \n",
      " 2   Height                 1000 non-null   float64\n",
      " 3   Weight                 1000 non-null   float64\n",
      " 4   BMI                    1000 non-null   float64\n",
      " 5   PhysicalActivityLevel  1000 non-null   int64  \n",
      " 6   ObesityCategory        1000 non-null   object \n",
      "dtypes: float64(3), int64(2), object(2)\n",
      "memory usage: 54.8+ KB\n"
     ]
    }
   ],
   "source": [
    "dataset.info()"
   ]
  },
  {
   "cell_type": "code",
   "execution_count": 5,
   "metadata": {
    "id": "zO8m8ObScvim"
   },
   "outputs": [
    {
     "data": {
      "text/plain": [
       "Age                      0\n",
       "Gender                   0\n",
       "Height                   0\n",
       "Weight                   0\n",
       "BMI                      0\n",
       "PhysicalActivityLevel    0\n",
       "ObesityCategory          0\n",
       "dtype: int64"
      ]
     },
     "execution_count": 5,
     "metadata": {},
     "output_type": "execute_result"
    }
   ],
   "source": [
    "dataset.isnull().sum()"
   ]
  },
  {
   "cell_type": "code",
   "execution_count": 5,
   "metadata": {
    "id": "OwYfKGb0cw6R"
   },
   "outputs": [
    {
     "name": "stdout",
     "output_type": "stream",
     "text": [
      "<class 'pandas.core.frame.DataFrame'>\n",
      "RangeIndex: 1000 entries, 0 to 999\n",
      "Data columns (total 7 columns):\n",
      " #   Column                 Non-Null Count  Dtype  \n",
      "---  ------                 --------------  -----  \n",
      " 0   Age                    1000 non-null   int64  \n",
      " 1   Gender                 1000 non-null   object \n",
      " 2   Height                 1000 non-null   float64\n",
      " 3   Weight                 1000 non-null   float64\n",
      " 4   BMI                    1000 non-null   float64\n",
      " 5   PhysicalActivityLevel  1000 non-null   int64  \n",
      " 6   ObesityCategory        1000 non-null   object \n",
      "dtypes: float64(3), int64(2), object(2)\n",
      "memory usage: 54.8+ KB\n"
     ]
    }
   ],
   "source": [
    "dataset.info()"
   ]
  },
  {
   "cell_type": "code",
   "execution_count": 6,
   "metadata": {},
   "outputs": [
    {
     "data": {
      "image/png": "[encoded data removed]",
      "text/plain": [
       "<Figure size 600x600 with 1 Axes>"
      ]
     },
     "metadata": {},
     "output_type": "display_data"
    }
   ],
   "source": [
    "plt.figure(figsize=(6, 6))  # Set the figure size\n",
    "sns.countplot(x=\"Gender\", data=dataset, palette=\"Set1\", hue='ObesityCategory')  # Use a visually appealing color palette\n",
    "plt.xlabel(\"Gender\")\n",
    "plt.ylabel(\"Count\")\n",
    "plt.title(\"Gender Distribution\")\n",
    "plt.show()"
   ]
  },
  {
   "cell_type": "code",
   "execution_count": 7,
   "metadata": {},
   "outputs": [
    {
     "name": "stdout",
     "output_type": "stream",
     "text": [
      "0.13.2\n"
     ]
    },
    {
     "data": {
      "image/png": "[encoded data removed]",
      "text/plain": [
       "<Figure size 640x480 with 2 Axes>"
      ]
     },
     "metadata": {},
     "output_type": "display_data"
    }
   ],
   "source": [
    "print(sns.__version__)\n",
    "corr = dataset.drop([\"Gender\", \"ObesityCategory\"], axis=1).corr()\n",
    "sns.heatmap(corr, annot=True)\n",
    "plt.show()"
   ]
  },
  {
   "cell_type": "code",
   "execution_count": 9,
   "metadata": {
    "id": "LLmnJ5zrb0OG"
   },
   "outputs": [],
   "source": [
    "#Label Encoding\n",
    "label_encoder = LabelEncoder()\n",
    "dataset['Gender'] = label_encoder.fit_transform(dataset['Gender'])"
   ]
  },
  {
   "cell_type": "code",
   "execution_count": 10,
   "metadata": {
    "id": "Zb6RcUx9b2jW"
   },
   "outputs": [],
   "source": [
    "X, y = dataset.drop(['ObesityCategory'], axis =1), dataset['ObesityCategory']"
   ]
  },
  {
   "cell_type": "code",
   "execution_count": 13,
   "metadata": {
    "id": "U_ffcu1Zb7PY"
   },
   "outputs": [],
   "source": [
    "### Split test data for later testing before training\n",
    "train, test, train_y, test_y = train_test_split(X, y, test_size=0.3, random_state=42, stratify=y)"
   ]
  },
  {
   "cell_type": "code",
   "execution_count": 14,
   "metadata": {
    "id": "9yfkuKsib-K2"
   },
   "outputs": [],
   "source": [
    "k_folds = 10\n",
    "stratified_kfold = StratifiedKFold(n_splits=k_folds, shuffle=True, random_state=42)"
   ]
  },
  {
   "cell_type": "code",
   "execution_count": 15,
   "metadata": {
    "id": "08-nDRnFcAQd"
   },
   "outputs": [
    {
     "name": "stderr",
     "output_type": "stream",
     "text": [
      "Cross-validation: 100%|██████████| 10/10 [00:00<00:00, 68.86it/s]"
     ]
    },
    {
     "name": "stdout",
     "output_type": "stream",
     "text": [
      "[[26  0  0  0]\n",
      " [ 0 14  0  0]\n",
      " [ 0  0 20  0]\n",
      " [ 0  0  0 10]]\n",
      "               precision    recall  f1-score   support\n",
      "\n",
      "Normal weight       1.00      1.00      1.00        26\n",
      "        Obese       1.00      1.00      1.00        14\n",
      "   Overweight       1.00      1.00      1.00        20\n",
      "  Underweight       1.00      1.00      1.00        10\n",
      "\n",
      "     accuracy                           1.00        70\n",
      "    macro avg       1.00      1.00      1.00        70\n",
      " weighted avg       1.00      1.00      1.00        70\n",
      "\n",
      "[[26  0  0  0]\n",
      " [ 0 14  0  0]\n",
      " [ 0  0 20  0]\n",
      " [ 0  0  0 10]]\n",
      "               precision    recall  f1-score   support\n",
      "\n",
      "Normal weight       1.00      1.00      1.00        26\n",
      "        Obese       1.00      1.00      1.00        14\n",
      "   Overweight       1.00      1.00      1.00        20\n",
      "  Underweight       1.00      1.00      1.00        10\n",
      "\n",
      "     accuracy                           1.00        70\n",
      "    macro avg       1.00      1.00      1.00        70\n",
      " weighted avg       1.00      1.00      1.00        70\n",
      "\n",
      "[[26  0  0  0]\n",
      " [ 0 14  0  0]\n",
      " [ 0  0 20  0]\n",
      " [ 0  0  0 10]]\n",
      "               precision    recall  f1-score   support\n",
      "\n",
      "Normal weight       1.00      1.00      1.00        26\n",
      "        Obese       1.00      1.00      1.00        14\n",
      "   Overweight       1.00      1.00      1.00        20\n",
      "  Underweight       1.00      1.00      1.00        10\n",
      "\n",
      "     accuracy                           1.00        70\n",
      "    macro avg       1.00      1.00      1.00        70\n",
      " weighted avg       1.00      1.00      1.00        70\n",
      "\n",
      "[[26  0  0  0]\n",
      " [ 0 14  0  0]\n",
      " [ 0  0 20  0]\n",
      " [ 0  0  0 10]]\n",
      "               precision    recall  f1-score   support\n",
      "\n",
      "Normal weight       1.00      1.00      1.00        26\n",
      "        Obese       1.00      1.00      1.00        14\n",
      "   Overweight       1.00      1.00      1.00        20\n",
      "  Underweight       1.00      1.00      1.00        10\n",
      "\n",
      "     accuracy                           1.00        70\n",
      "    macro avg       1.00      1.00      1.00        70\n",
      " weighted avg       1.00      1.00      1.00        70\n",
      "\n",
      "[[26  0  0  0]\n",
      " [ 0 13  0  0]\n",
      " [ 0  0 21  0]\n",
      " [ 0  0  0 10]]\n",
      "               precision    recall  f1-score   support\n",
      "\n",
      "Normal weight       1.00      1.00      1.00        26\n",
      "        Obese       1.00      1.00      1.00        13\n",
      "   Overweight       1.00      1.00      1.00        21\n",
      "  Underweight       1.00      1.00      1.00        10\n",
      "\n",
      "     accuracy                           1.00        70\n",
      "    macro avg       1.00      1.00      1.00        70\n",
      " weighted avg       1.00      1.00      1.00        70\n",
      "\n",
      "[[26  0  0  0]\n",
      " [ 0 13  0  0]\n",
      " [ 0  0 21  0]\n",
      " [ 0  0  0 10]]\n",
      "               precision    recall  f1-score   support\n",
      "\n",
      "Normal weight       1.00      1.00      1.00        26\n",
      "        Obese       1.00      1.00      1.00        13\n",
      "   Overweight       1.00      1.00      1.00        21\n",
      "  Underweight       1.00      1.00      1.00        10\n",
      "\n",
      "     accuracy                           1.00        70\n",
      "    macro avg       1.00      1.00      1.00        70\n",
      " weighted avg       1.00      1.00      1.00        70\n",
      "\n",
      "[[26  0  0  0]\n",
      " [ 0 13  0  0]\n",
      " [ 0  0 21  0]\n",
      " [ 0  0  0 10]]\n",
      "               precision    recall  f1-score   support\n",
      "\n",
      "Normal weight       1.00      1.00      1.00        26\n",
      "        Obese       1.00      1.00      1.00        13\n",
      "   Overweight       1.00      1.00      1.00        21\n",
      "  Underweight       1.00      1.00      1.00        10\n",
      "\n",
      "     accuracy                           1.00        70\n",
      "    macro avg       1.00      1.00      1.00        70\n",
      " weighted avg       1.00      1.00      1.00        70\n",
      "\n",
      "[[26  0  0  0]\n",
      " [ 0 13  0  0]\n",
      " [ 0  0 21  0]\n",
      " [ 0  0  0 10]]\n",
      "               precision    recall  f1-score   support\n",
      "\n",
      "Normal weight       1.00      1.00      1.00        26\n",
      "        Obese       1.00      1.00      1.00        13\n",
      "   Overweight       1.00      1.00      1.00        21\n",
      "  Underweight       1.00      1.00      1.00        10\n",
      "\n",
      "     accuracy                           1.00        70\n",
      "    macro avg       1.00      1.00      1.00        70\n",
      " weighted avg       1.00      1.00      1.00        70\n",
      "\n",
      "[[26  0  0  0]\n",
      " [ 0 13  0  0]\n",
      " [ 0  0 21  0]\n",
      " [ 0  0  0 10]]\n",
      "               precision    recall  f1-score   support\n",
      "\n",
      "Normal weight       1.00      1.00      1.00        26\n",
      "        Obese       1.00      1.00      1.00        13\n",
      "   Overweight       1.00      1.00      1.00        21\n",
      "  Underweight       1.00      1.00      1.00        10\n",
      "\n",
      "     accuracy                           1.00        70\n",
      "    macro avg       1.00      1.00      1.00        70\n",
      " weighted avg       1.00      1.00      1.00        70\n",
      "\n",
      "[[26  0  0  0]\n",
      " [ 0 13  0  0]\n",
      " [ 0  0 21  0]\n",
      " [ 0  0  0 10]]\n",
      "               precision    recall  f1-score   support\n",
      "\n",
      "Normal weight       1.00      1.00      1.00        26\n",
      "        Obese       1.00      1.00      1.00        13\n",
      "   Overweight       1.00      1.00      1.00        21\n",
      "  Underweight       1.00      1.00      1.00        10\n",
      "\n",
      "     accuracy                           1.00        70\n",
      "    macro avg       1.00      1.00      1.00        70\n",
      " weighted avg       1.00      1.00      1.00        70\n",
      "\n"
     ]
    },
    {
     "name": "stderr",
     "output_type": "stream",
     "text": [
      "\n"
     ]
    }
   ],
   "source": [
    "### Decision Tree with K-Fold\n",
    "decision_tree_classifier = DecisionTreeClassifier()\n",
    "for train_index, test_index in tqdm(stratified_kfold.split(train, train_y), total=k_folds, desc=\"Cross-validation\"):\n",
    "    X_train, X_test = train.iloc[train_index], train.iloc[test_index]\n",
    "    y_train, y_test = train_y.iloc[train_index], train_y.iloc[test_index]\n",
    "\n",
    "    decision_tree_classifier.fit(X_train, y_train)\n",
    "\n",
    "    y_pred = decision_tree_classifier.predict(X_test)\n",
    "\n",
    "    print(confusion_matrix(y_test, y_pred))\n",
    "    print(classification_report(y_test, y_pred))"
   ]
  },
  {
   "cell_type": "code",
   "execution_count": 16,
   "metadata": {},
   "outputs": [
    {
     "name": "stdout",
     "output_type": "stream",
     "text": [
      "[[110   0   0   1]\n",
      " [  0  57   0   0]\n",
      " [  0   0  89   0]\n",
      " [  0   0   0  43]]\n",
      "               precision    recall  f1-score   support\n",
      "\n",
      "Normal weight       1.00      0.99      1.00       111\n",
      "        Obese       1.00      1.00      1.00        57\n",
      "   Overweight       1.00      1.00      1.00        89\n",
      "  Underweight       0.98      1.00      0.99        43\n",
      "\n",
      "     accuracy                           1.00       300\n",
      "    macro avg       0.99      1.00      1.00       300\n",
      " weighted avg       1.00      1.00      1.00       300\n",
      "\n"
     ]
    }
   ],
   "source": [
    "y_pred = decision_tree_classifier.predict(test)\n",
    "\n",
    "print(confusion_matrix(test_y, y_pred))\n",
    "print(classification_report(test_y, y_pred))"
   ]
  },
  {
   "cell_type": "code",
   "execution_count": 17,
   "metadata": {},
   "outputs": [
    {
     "data": {
      "text/plain": [
       "0.9966666666666667"
      ]
     },
     "execution_count": 17,
     "metadata": {},
     "output_type": "execute_result"
    }
   ],
   "source": [
    "# Calculate the accuracy ofthe model\n",
    "accuracy = accuracy_score(test_y, y_pred)\n",
    "accuracy"
   ]
  },
  {
   "cell_type": "code",
   "execution_count": null,
   "metadata": {},
   "outputs": [],
   "source": []
  }
 ],
 "metadata": {
  "colab": {
   "authorship_tag": "ABX9TyNz+dz5q7RNm1B4o70wY+LF",
   "provenance": []
  },
  "kernelspec": {
   "display_name": "Python 3 (ipykernel)",
   "language": "python",
   "name": "python3"
  },
  "language_info": {
   "codemirror_mode": {
    "name": "ipython",
    "version": 3
   },
   "file_extension": ".py",
   "mimetype": "text/x-python",
   "name": "python",
   "nbconvert_exporter": "python",
   "pygments_lexer": "ipython3",
   "version": "3.11.7"
  }
 },
 "nbformat": 4,
 "nbformat_minor": 4
}

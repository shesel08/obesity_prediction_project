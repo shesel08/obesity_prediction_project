{
 "cells": [
  {
   "cell_type": "code",
   "execution_count": 1,
   "metadata": {
    "executionInfo": {
     "elapsed": 2591,
     "status": "ok",
     "timestamp": 1712928015687,
     "user": {
      "displayName": "Sheema Selvam",
      "userId": "16791162416401843902"
     },
     "user_tz": 240
    },
    "id": "JWJUP1Vw2hkp"
   },
   "outputs": [],
   "source": [
    "import pandas as pd\n",
    "import seaborn as sns\n",
    "\n",
    "from sklearn.preprocessing import LabelEncoder\n",
    "from sklearn.model_selection import train_test_split, StratifiedKFold\n",
    "from sklearn.tree import DecisionTreeClassifier\n",
    "from tqdm import tqdm\n",
    "from sklearn.metrics import classification_report,confusion_matrix"
   ]
  },
  {
   "cell_type": "code",
   "execution_count": 3,
   "metadata": {
    "colab": {
     "base_uri": "https://localhost:8080/",
     "height": 321
    },
    "executionInfo": {
     "elapsed": 165,
     "status": "error",
     "timestamp": 1712928030032,
     "user": {
      "displayName": "Sheema Selvam",
      "userId": "16791162416401843902"
     },
     "user_tz": 240
    },
    "id": "PDfQE4LRbxuN",
    "outputId": "c8c1bbd0-bea4-4f26-cdaa-466130122de1"
   },
   "outputs": [
    {
     "name": "stdout",
     "output_type": "stream",
     "text": [
      "   Age  Gender      Height     Weight        BMI  PhysicalActivityLevel  \\\n",
      "0   56    Male  173.575262  71.982051  23.891783                      4   \n",
      "1   69    Male  164.127306  89.959256  33.395209                      2   \n",
      "2   46  Female  168.072202  72.930629  25.817737                      4   \n",
      "3   32    Male  168.459633  84.886912  29.912247                      3   \n",
      "4   60    Male  183.568568  69.038945  20.487903                      3   \n",
      "\n",
      "  ObesityCategory  \n",
      "0   Normal weight  \n",
      "1           Obese  \n",
      "2      Overweight  \n",
      "3      Overweight  \n",
      "4   Normal weight  \n"
     ]
    }
   ],
   "source": [
    "dataset = pd.read_csv('obesity_data.csv')\n",
    "dataset.head()\n",
    "print(dataset.head())"
   ]
  },
  {
   "cell_type": "code",
   "execution_count": 4,
   "metadata": {
    "id": "94jxHnpfcryp"
   },
   "outputs": [
    {
     "name": "stdout",
     "output_type": "stream",
     "text": [
      "               Age       Height       Weight          BMI  \\\n",
      "count  1000.000000  1000.000000  1000.000000  1000.000000   \n",
      "mean     49.857000   170.052417    71.205769    24.888317   \n",
      "std      18.114267    10.309971    15.509849     6.193912   \n",
      "min      18.000000   136.115719    26.065730     8.470572   \n",
      "25%      35.000000   163.514205    61.129629    20.918068   \n",
      "50%      50.000000   169.801665    71.929072    24.698647   \n",
      "75%      66.000000   177.353596    81.133746    28.732132   \n",
      "max      79.000000   201.419670   118.907366    50.791898   \n",
      "\n",
      "       PhysicalActivityLevel  \n",
      "count            1000.000000  \n",
      "mean                2.534000  \n",
      "std                 1.116284  \n",
      "min                 1.000000  \n",
      "25%                 2.000000  \n",
      "50%                 3.000000  \n",
      "75%                 4.000000  \n",
      "max                 4.000000  \n"
     ]
    }
   ],
   "source": [
    "# Data Exploration\n",
    "\n",
    "print(dataset.describe())"
   ]
  },
  {
   "cell_type": "code",
   "execution_count": 5,
   "metadata": {
    "id": "MDMrA9iactzs"
   },
   "outputs": [
    {
     "name": "stdout",
     "output_type": "stream",
     "text": [
      "<class 'pandas.core.frame.DataFrame'>\n",
      "RangeIndex: 1000 entries, 0 to 999\n",
      "Data columns (total 7 columns):\n",
      " #   Column                 Non-Null Count  Dtype  \n",
      "---  ------                 --------------  -----  \n",
      " 0   Age                    1000 non-null   int64  \n",
      " 1   Gender                 1000 non-null   object \n",
      " 2   Height                 1000 non-null   float64\n",
      " 3   Weight                 1000 non-null   float64\n",
      " 4   BMI                    1000 non-null   float64\n",
      " 5   PhysicalActivityLevel  1000 non-null   int64  \n",
      " 6   ObesityCategory        1000 non-null   object \n",
      "dtypes: float64(3), int64(2), object(2)\n",
      "memory usage: 54.8+ KB\n",
      "None\n"
     ]
    }
   ],
   "source": [
    "print(dataset.info())"
   ]
  },
  {
   "cell_type": "code",
   "execution_count": 6,
   "metadata": {
    "id": "zO8m8ObScvim"
   },
   "outputs": [
    {
     "name": "stdout",
     "output_type": "stream",
     "text": [
      "Age                      0\n",
      "Gender                   0\n",
      "Height                   0\n",
      "Weight                   0\n",
      "BMI                      0\n",
      "PhysicalActivityLevel    0\n",
      "ObesityCategory          0\n",
      "dtype: int64\n"
     ]
    }
   ],
   "source": [
    "print(dataset.isnull().sum())"
   ]
  },
  {
   "cell_type": "code",
   "execution_count": 7,
   "metadata": {
    "id": "OwYfKGb0cw6R"
   },
   "outputs": [
    {
     "name": "stdout",
     "output_type": "stream",
     "text": [
      "<class 'pandas.core.frame.DataFrame'>\n",
      "RangeIndex: 1000 entries, 0 to 999\n",
      "Data columns (total 7 columns):\n",
      " #   Column                 Non-Null Count  Dtype  \n",
      "---  ------                 --------------  -----  \n",
      " 0   Age                    1000 non-null   int64  \n",
      " 1   Gender                 1000 non-null   object \n",
      " 2   Height                 1000 non-null   float64\n",
      " 3   Weight                 1000 non-null   float64\n",
      " 4   BMI                    1000 non-null   float64\n",
      " 5   PhysicalActivityLevel  1000 non-null   int64  \n",
      " 6   ObesityCategory        1000 non-null   object \n",
      "dtypes: float64(3), int64(2), object(2)\n",
      "memory usage: 54.8+ KB\n",
      "None\n"
     ]
    }
   ],
   "source": [
    "print(dataset.info())"
   ]
  },
  {
   "cell_type": "code",
   "execution_count": 8,
   "metadata": {
    "id": "LLmnJ5zrb0OG"
   },
   "outputs": [],
   "source": [
    "#Label Encoding\n",
    "label_encoder = LabelEncoder()\n",
    "dataset['Gender'] = label_encoder.fit_transform(dataset['Gender'])"
   ]
  },
  {
   "cell_type": "code",
   "execution_count": 10,
   "metadata": {
    "id": "Zb6RcUx9b2jW"
   },
   "outputs": [],
   "source": [
    "X, y = dataset.drop(['ObesityCategory'], axis =1), dataset['ObesityCategory']"
   ]
  },
  {
   "cell_type": "code",
   "execution_count": 11,
   "metadata": {
    "id": "dnKQ4qgbb46w"
   },
   "outputs": [],
   "source": [
    "decision_tree_classifier = DecisionTreeClassifier()"
   ]
  },
  {
   "cell_type": "code",
   "execution_count": 12,
   "metadata": {
    "id": "U_ffcu1Zb7PY"
   },
   "outputs": [],
   "source": [
    "# Split test data for later testing before training\n",
    "# X_train, X_test, y_train, y_test = train_test_split(X, y, test_size=0.3, random_state=42)"
   ]
  },
  {
   "cell_type": "code",
   "execution_count": 13,
   "metadata": {
    "id": "9yfkuKsib-K2"
   },
   "outputs": [],
   "source": [
    "k_folds = 10\n",
    "stratified_kfold = StratifiedKFold(n_splits=k_folds, shuffle=True, random_state=42)"
   ]
  },
  {
   "cell_type": "code",
   "execution_count": 14,
   "metadata": {
    "id": "08-nDRnFcAQd"
   },
   "outputs": [
    {
     "name": "stderr",
     "output_type": "stream",
     "text": [
      "Cross-validation: 100%|██████████| 10/10 [00:00<00:00, 63.54it/s]"
     ]
    },
    {
     "name": "stdout",
     "output_type": "stream",
     "text": [
      "[[38  0  0  0]\n",
      " [ 0 19  0  0]\n",
      " [ 0  0 29  0]\n",
      " [ 0  0  0 14]]\n",
      "               precision    recall  f1-score   support\n",
      "\n",
      "Normal weight       1.00      1.00      1.00        38\n",
      "        Obese       1.00      1.00      1.00        19\n",
      "   Overweight       1.00      1.00      1.00        29\n",
      "  Underweight       1.00      1.00      1.00        14\n",
      "\n",
      "     accuracy                           1.00       100\n",
      "    macro avg       1.00      1.00      1.00       100\n",
      " weighted avg       1.00      1.00      1.00       100\n",
      "\n",
      "[[37  0  0  0]\n",
      " [ 0 20  0  0]\n",
      " [ 0  0 29  0]\n",
      " [ 0  0  0 14]]\n",
      "               precision    recall  f1-score   support\n",
      "\n",
      "Normal weight       1.00      1.00      1.00        37\n",
      "        Obese       1.00      1.00      1.00        20\n",
      "   Overweight       1.00      1.00      1.00        29\n",
      "  Underweight       1.00      1.00      1.00        14\n",
      "\n",
      "     accuracy                           1.00       100\n",
      "    macro avg       1.00      1.00      1.00       100\n",
      " weighted avg       1.00      1.00      1.00       100\n",
      "\n",
      "[[37  0  0  0]\n",
      " [ 0 19  0  0]\n",
      " [ 0  0 30  0]\n",
      " [ 0  0  0 14]]\n",
      "               precision    recall  f1-score   support\n",
      "\n",
      "Normal weight       1.00      1.00      1.00        37\n",
      "        Obese       1.00      1.00      1.00        19\n",
      "   Overweight       1.00      1.00      1.00        30\n",
      "  Underweight       1.00      1.00      1.00        14\n",
      "\n",
      "     accuracy                           1.00       100\n",
      "    macro avg       1.00      1.00      1.00       100\n",
      " weighted avg       1.00      1.00      1.00       100\n",
      "\n",
      "[[37  0  0  0]\n",
      " [ 0 19  0  0]\n",
      " [ 0  0 30  0]\n",
      " [ 1  0  0 13]]\n",
      "               precision    recall  f1-score   support\n",
      "\n",
      "Normal weight       0.97      1.00      0.99        37\n",
      "        Obese       1.00      1.00      1.00        19\n",
      "   Overweight       1.00      1.00      1.00        30\n",
      "  Underweight       1.00      0.93      0.96        14\n",
      "\n",
      "     accuracy                           0.99       100\n",
      "    macro avg       0.99      0.98      0.99       100\n",
      " weighted avg       0.99      0.99      0.99       100\n",
      "\n",
      "[[37  0  0  0]\n",
      " [ 0 19  0  0]\n",
      " [ 0  0 30  0]\n",
      " [ 0  0  0 14]]\n",
      "               precision    recall  f1-score   support\n",
      "\n",
      "Normal weight       1.00      1.00      1.00        37\n",
      "        Obese       1.00      1.00      1.00        19\n",
      "   Overweight       1.00      1.00      1.00        30\n",
      "  Underweight       1.00      1.00      1.00        14\n",
      "\n",
      "     accuracy                           1.00       100\n",
      "    macro avg       1.00      1.00      1.00       100\n",
      " weighted avg       1.00      1.00      1.00       100\n",
      "\n",
      "[[36  0  0  1]\n",
      " [ 0 19  0  0]\n",
      " [ 0  0 30  0]\n",
      " [ 0  0  0 14]]\n",
      "               precision    recall  f1-score   support\n",
      "\n",
      "Normal weight       1.00      0.97      0.99        37\n",
      "        Obese       1.00      1.00      1.00        19\n",
      "   Overweight       1.00      1.00      1.00        30\n",
      "  Underweight       0.93      1.00      0.97        14\n",
      "\n",
      "     accuracy                           0.99       100\n",
      "    macro avg       0.98      0.99      0.99       100\n",
      " weighted avg       0.99      0.99      0.99       100\n",
      "\n",
      "[[37  0  0  0]\n",
      " [ 0 19  0  0]\n",
      " [ 0  0 30  0]\n",
      " [ 0  0  0 14]]\n",
      "               precision    recall  f1-score   support\n",
      "\n",
      "Normal weight       1.00      1.00      1.00        37\n",
      "        Obese       1.00      1.00      1.00        19\n",
      "   Overweight       1.00      1.00      1.00        30\n",
      "  Underweight       1.00      1.00      1.00        14\n",
      "\n",
      "     accuracy                           1.00       100\n",
      "    macro avg       1.00      1.00      1.00       100\n",
      " weighted avg       1.00      1.00      1.00       100\n",
      "\n",
      "[[37  0  0  0]\n",
      " [ 0 19  0  0]\n",
      " [ 0  0 29  0]\n",
      " [ 0  0  0 15]]\n",
      "               precision    recall  f1-score   support\n",
      "\n",
      "Normal weight       1.00      1.00      1.00        37\n",
      "        Obese       1.00      1.00      1.00        19\n",
      "   Overweight       1.00      1.00      1.00        29\n",
      "  Underweight       1.00      1.00      1.00        15\n",
      "\n",
      "     accuracy                           1.00       100\n",
      "    macro avg       1.00      1.00      1.00       100\n",
      " weighted avg       1.00      1.00      1.00       100\n",
      "\n",
      "[[37  0  0  0]\n",
      " [ 0 19  0  0]\n",
      " [ 0  0 29  0]\n",
      " [ 0  0  0 15]]\n",
      "               precision    recall  f1-score   support\n",
      "\n",
      "Normal weight       1.00      1.00      1.00        37\n",
      "        Obese       1.00      1.00      1.00        19\n",
      "   Overweight       1.00      1.00      1.00        29\n",
      "  Underweight       1.00      1.00      1.00        15\n",
      "\n",
      "     accuracy                           1.00       100\n",
      "    macro avg       1.00      1.00      1.00       100\n",
      " weighted avg       1.00      1.00      1.00       100\n",
      "\n",
      "[[37  0  0  0]\n",
      " [ 0 19  0  0]\n",
      " [ 0  0 29  0]\n",
      " [ 0  0  0 15]]\n",
      "               precision    recall  f1-score   support\n",
      "\n",
      "Normal weight       1.00      1.00      1.00        37\n",
      "        Obese       1.00      1.00      1.00        19\n",
      "   Overweight       1.00      1.00      1.00        29\n",
      "  Underweight       1.00      1.00      1.00        15\n",
      "\n",
      "     accuracy                           1.00       100\n",
      "    macro avg       1.00      1.00      1.00       100\n",
      " weighted avg       1.00      1.00      1.00       100\n",
      "\n"
     ]
    },
    {
     "name": "stderr",
     "output_type": "stream",
     "text": [
      "\n"
     ]
    }
   ],
   "source": [
    "for train_index, test_index in tqdm(stratified_kfold.split(X, y), total=k_folds, desc=\"Cross-validation\"):\n",
    "    X_train, X_test = X.iloc[train_index], X.iloc[test_index]\n",
    "    y_train, y_test = y.iloc[train_index], y.iloc[test_index]\n",
    "\n",
    "    decision_tree_classifier.fit(X_train, y_train)\n",
    "\n",
    "    y_pred = decision_tree_classifier.predict(X_test)\n",
    "\n",
    "    print(confusion_matrix(y_test, y_pred))\n",
    "    print(classification_report(y_test, y_pred))"
   ]
  },
  {
   "cell_type": "code",
   "execution_count": null,
   "metadata": {},
   "outputs": [],
   "source": []
  }
 ],
 "metadata": {
  "colab": {
   "authorship_tag": "ABX9TyNz+dz5q7RNm1B4o70wY+LF",
   "provenance": []
  },
  "kernelspec": {
   "display_name": "Python 3 (ipykernel)",
   "language": "python",
   "name": "python3"
  },
  "language_info": {
   "codemirror_mode": {
    "name": "ipython",
    "version": 3
   },
   "file_extension": ".py",
   "mimetype": "text/x-python",
   "name": "python",
   "nbconvert_exporter": "python",
   "pygments_lexer": "ipython3",
   "version": "3.11.7"
  }
 },
 "nbformat": 4,
 "nbformat_minor": 4
}

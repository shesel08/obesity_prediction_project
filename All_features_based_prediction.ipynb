{
 "cells": [
  {
   "cell_type": "markdown",
   "metadata": {},
   "source": [
    "# Required Libraries"
   ]
  },
  {
   "cell_type": "code",
   "execution_count": 27,
   "metadata": {},
   "outputs": [
    {
     "name": "stdout",
     "output_type": "stream",
     "text": [
      "Requirement already satisfied: numpy in c:\\users\\ss\\appdata\\roaming\\jupyterlab-desktop\\jlab_server\\lib\\site-packages (1.26.4)\n",
      "Requirement already satisfied: pandas in c:\\users\\ss\\appdata\\roaming\\jupyterlab-desktop\\jlab_server\\lib\\site-packages (2.2.1)\n",
      "Requirement already satisfied: numpy<2,>=1.26.0 in c:\\users\\ss\\appdata\\roaming\\jupyterlab-desktop\\jlab_server\\lib\\site-packages (from pandas) (1.26.4)\n",
      "Requirement already satisfied: python-dateutil>=2.8.2 in c:\\users\\ss\\appdata\\roaming\\jupyterlab-desktop\\jlab_server\\lib\\site-packages (from pandas) (2.9.0)\n",
      "Requirement already satisfied: pytz>=2020.1 in c:\\users\\ss\\appdata\\roaming\\jupyterlab-desktop\\jlab_server\\lib\\site-packages (from pandas) (2024.1)\n",
      "Requirement already satisfied: tzdata>=2022.7 in c:\\users\\ss\\appdata\\roaming\\jupyterlab-desktop\\jlab_server\\lib\\site-packages (from pandas) (2024.1)\n",
      "Requirement already satisfied: six>=1.5 in c:\\users\\ss\\appdata\\roaming\\jupyterlab-desktop\\jlab_server\\lib\\site-packages (from python-dateutil>=2.8.2->pandas) (1.16.0)\n",
      "^C\n",
      "Requirement already satisfied: matplotlib in c:\\users\\ss\\appdata\\roaming\\jupyterlab-desktop\\jlab_server\\lib\\site-packages (3.8.3)\n",
      "Requirement already satisfied: contourpy>=1.0.1 in c:\\users\\ss\\appdata\\roaming\\jupyterlab-desktop\\jlab_server\\lib\\site-packages (from matplotlib) (1.2.0)\n",
      "Requirement already satisfied: cycler>=0.10 in c:\\users\\ss\\appdata\\roaming\\jupyterlab-desktop\\jlab_server\\lib\\site-packages (from matplotlib) (0.12.1)\n",
      "Requirement already satisfied: fonttools>=4.22.0 in c:\\users\\ss\\appdata\\roaming\\jupyterlab-desktop\\jlab_server\\lib\\site-packages (from matplotlib) (4.49.0)\n",
      "Requirement already satisfied: kiwisolver>=1.3.1 in c:\\users\\ss\\appdata\\roaming\\jupyterlab-desktop\\jlab_server\\lib\\site-packages (from matplotlib) (1.4.5)\n",
      "Requirement already satisfied: numpy<2,>=1.21 in c:\\users\\ss\\appdata\\roaming\\jupyterlab-desktop\\jlab_server\\lib\\site-packages (from matplotlib) (1.26.4)\n",
      "Requirement already satisfied: packaging>=20.0 in c:\\users\\ss\\appdata\\roaming\\jupyterlab-desktop\\jlab_server\\lib\\site-packages (from matplotlib) (24.0)\n",
      "Requirement already satisfied: pillow>=8 in c:\\users\\ss\\appdata\\roaming\\jupyterlab-desktop\\jlab_server\\lib\\site-packages (from matplotlib) (10.2.0)\n",
      "Requirement already satisfied: pyparsing>=2.3.1 in c:\\users\\ss\\appdata\\roaming\\jupyterlab-desktop\\jlab_server\\lib\\site-packages (from matplotlib) (3.1.2)\n",
      "Requirement already satisfied: python-dateutil>=2.7 in c:\\users\\ss\\appdata\\roaming\\jupyterlab-desktop\\jlab_server\\lib\\site-packages (from matplotlib) (2.9.0)\n",
      "Requirement already satisfied: six>=1.5 in c:\\users\\ss\\appdata\\roaming\\jupyterlab-desktop\\jlab_server\\lib\\site-packages (from python-dateutil>=2.7->matplotlib) (1.16.0)\n",
      "Requirement already satisfied: seaborn in c:\\users\\ss\\appdata\\roaming\\jupyterlab-desktop\\jlab_server\\lib\\site-packages (0.13.2)\n",
      "Requirement already satisfied: numpy!=1.24.0,>=1.20 in c:\\users\\ss\\appdata\\roaming\\jupyterlab-desktop\\jlab_server\\lib\\site-packages (from seaborn) (1.26.4)\n",
      "Requirement already satisfied: pandas>=1.2 in c:\\users\\ss\\appdata\\roaming\\jupyterlab-desktop\\jlab_server\\lib\\site-packages (from seaborn) (2.2.1)\n",
      "Requirement already satisfied: matplotlib!=3.6.1,>=3.4 in c:\\users\\ss\\appdata\\roaming\\jupyterlab-desktop\\jlab_server\\lib\\site-packages (from seaborn) (3.8.3)\n",
      "Requirement already satisfied: contourpy>=1.0.1 in c:\\users\\ss\\appdata\\roaming\\jupyterlab-desktop\\jlab_server\\lib\\site-packages (from matplotlib!=3.6.1,>=3.4->seaborn) (1.2.0)\n",
      "Requirement already satisfied: cycler>=0.10 in c:\\users\\ss\\appdata\\roaming\\jupyterlab-desktop\\jlab_server\\lib\\site-packages (from matplotlib!=3.6.1,>=3.4->seaborn) (0.12.1)\n",
      "Requirement already satisfied: fonttools>=4.22.0 in c:\\users\\ss\\appdata\\roaming\\jupyterlab-desktop\\jlab_server\\lib\\site-packages (from matplotlib!=3.6.1,>=3.4->seaborn) (4.49.0)\n",
      "Requirement already satisfied: kiwisolver>=1.3.1 in c:\\users\\ss\\appdata\\roaming\\jupyterlab-desktop\\jlab_server\\lib\\site-packages (from matplotlib!=3.6.1,>=3.4->seaborn) (1.4.5)\n",
      "Requirement already satisfied: packaging>=20.0 in c:\\users\\ss\\appdata\\roaming\\jupyterlab-desktop\\jlab_server\\lib\\site-packages (from matplotlib!=3.6.1,>=3.4->seaborn) (24.0)\n",
      "Requirement already satisfied: pillow>=8 in c:\\users\\ss\\appdata\\roaming\\jupyterlab-desktop\\jlab_server\\lib\\site-packages (from matplotlib!=3.6.1,>=3.4->seaborn) (10.2.0)\n",
      "Requirement already satisfied: pyparsing>=2.3.1 in c:\\users\\ss\\appdata\\roaming\\jupyterlab-desktop\\jlab_server\\lib\\site-packages (from matplotlib!=3.6.1,>=3.4->seaborn) (3.1.2)\n",
      "Requirement already satisfied: python-dateutil>=2.7 in c:\\users\\ss\\appdata\\roaming\\jupyterlab-desktop\\jlab_server\\lib\\site-packages (from matplotlib!=3.6.1,>=3.4->seaborn) (2.9.0)\n",
      "Requirement already satisfied: pytz>=2020.1 in c:\\users\\ss\\appdata\\roaming\\jupyterlab-desktop\\jlab_server\\lib\\site-packages (from pandas>=1.2->seaborn) (2024.1)\n",
      "Requirement already satisfied: tzdata>=2022.7 in c:\\users\\ss\\appdata\\roaming\\jupyterlab-desktop\\jlab_server\\lib\\site-packages (from pandas>=1.2->seaborn) (2024.1)\n",
      "Requirement already satisfied: six>=1.5 in c:\\users\\ss\\appdata\\roaming\\jupyterlab-desktop\\jlab_server\\lib\\site-packages (from python-dateutil>=2.7->matplotlib!=3.6.1,>=3.4->seaborn) (1.16.0)\n",
      "Requirement already satisfied: scikit-learn in c:\\users\\ss\\appdata\\roaming\\jupyterlab-desktop\\jlab_server\\lib\\site-packages (1.4.2)\n",
      "Requirement already satisfied: numpy>=1.19.5 in c:\\users\\ss\\appdata\\roaming\\jupyterlab-desktop\\jlab_server\\lib\\site-packages (from scikit-learn) (1.26.4)\n",
      "Requirement already satisfied: scipy>=1.6.0 in c:\\users\\ss\\appdata\\roaming\\jupyterlab-desktop\\jlab_server\\lib\\site-packages (from scikit-learn) (1.12.0)\n",
      "Requirement already satisfied: joblib>=1.2.0 in c:\\users\\ss\\appdata\\roaming\\jupyterlab-desktop\\jlab_server\\lib\\site-packages (from scikit-learn) (1.4.0)\n",
      "Requirement already satisfied: threadpoolctl>=2.0.0 in c:\\users\\ss\\appdata\\roaming\\jupyterlab-desktop\\jlab_server\\lib\\site-packages (from scikit-learn) (3.4.0)\n",
      "Requirement already satisfied: tqdm in c:\\users\\ss\\appdata\\roaming\\jupyterlab-desktop\\jlab_server\\lib\\site-packages (4.66.2)\n",
      "Requirement already satisfied: colorama in c:\\users\\ss\\appdata\\roaming\\jupyterlab-desktop\\jlab_server\\lib\\site-packages (from tqdm) (0.4.6)\n"
     ]
    }
   ],
   "source": [
    "!pip install numpy\n",
    "!pip install pandas\n",
    "!pip install matplotlib\n",
    "!pip install seaborn\n",
    "!pip install scikit-learn\n",
    "!pip install tqdm"
   ]
  },
  {
   "cell_type": "code",
   "execution_count": 26,
   "metadata": {
    "executionInfo": {
     "elapsed": 2591,
     "status": "ok",
     "timestamp": 1712928015687,
     "user": {
      "displayName": "Sheema Selvam",
      "userId": "16791162416401843902"
     },
     "user_tz": 240
    },
    "id": "JWJUP1Vw2hkp"
   },
   "outputs": [],
   "source": [
    "import numpy as np\n",
    "import pandas as pd\n",
    "import seaborn as sns\n",
    "import matplotlib.pyplot as plt\n",
    "import time\n",
    "\n",
    "from sklearn.preprocessing import LabelEncoder\n",
    "from sklearn.model_selection import train_test_split, StratifiedKFold\n",
    "from sklearn.tree import DecisionTreeClassifier\n",
    "from sklearn.ensemble import RandomForestClassifier\n",
    "from sklearn.neighbors import KNeighborsClassifier\n",
    "\n",
    "from tqdm import tqdm\n",
    "from sklearn.metrics import classification_report,confusion_matrix\n",
    "from sklearn.metrics import accuracy_score\n",
    "from sklearn.preprocessing import StandardScaler"
   ]
  },
  {
   "cell_type": "code",
   "execution_count": 27,
   "metadata": {
    "colab": {
     "base_uri": "https://localhost:8080/",
     "height": 321
    },
    "executionInfo": {
     "elapsed": 165,
     "status": "error",
     "timestamp": 1712928030032,
     "user": {
      "displayName": "Sheema Selvam",
      "userId": "16791162416401843902"
     },
     "user_tz": 240
    },
    "id": "PDfQE4LRbxuN",
    "outputId": "c8c1bbd0-bea4-4f26-cdaa-466130122de1"
   },
   "outputs": [
    {
     "data": {
      "text/html": [
       "<div>\n",
       "<style scoped>\n",
       "    .dataframe tbody tr th:only-of-type {\n",
       "        vertical-align: middle;\n",
       "    }\n",
       "\n",
       "    .dataframe tbody tr th {\n",
       "        vertical-align: top;\n",
       "    }\n",
       "\n",
       "    .dataframe thead th {\n",
       "        text-align: right;\n",
       "    }\n",
       "</style>\n",
       "<table border=\"1\" class=\"dataframe\">\n",
       "  <thead>\n",
       "    <tr style=\"text-align: right;\">\n",
       "      <th></th>\n",
       "      <th>Age</th>\n",
       "      <th>Gender</th>\n",
       "      <th>Height</th>\n",
       "      <th>Weight</th>\n",
       "      <th>BMI</th>\n",
       "      <th>PhysicalActivityLevel</th>\n",
       "      <th>ObesityCategory</th>\n",
       "    </tr>\n",
       "  </thead>\n",
       "  <tbody>\n",
       "    <tr>\n",
       "      <th>0</th>\n",
       "      <td>56</td>\n",
       "      <td>Male</td>\n",
       "      <td>173.575262</td>\n",
       "      <td>71.982051</td>\n",
       "      <td>23.891783</td>\n",
       "      <td>4</td>\n",
       "      <td>Normal weight</td>\n",
       "    </tr>\n",
       "    <tr>\n",
       "      <th>1</th>\n",
       "      <td>69</td>\n",
       "      <td>Male</td>\n",
       "      <td>164.127306</td>\n",
       "      <td>89.959256</td>\n",
       "      <td>33.395209</td>\n",
       "      <td>2</td>\n",
       "      <td>Obese</td>\n",
       "    </tr>\n",
       "    <tr>\n",
       "      <th>2</th>\n",
       "      <td>46</td>\n",
       "      <td>Female</td>\n",
       "      <td>168.072202</td>\n",
       "      <td>72.930629</td>\n",
       "      <td>25.817737</td>\n",
       "      <td>4</td>\n",
       "      <td>Overweight</td>\n",
       "    </tr>\n",
       "    <tr>\n",
       "      <th>3</th>\n",
       "      <td>32</td>\n",
       "      <td>Male</td>\n",
       "      <td>168.459633</td>\n",
       "      <td>84.886912</td>\n",
       "      <td>29.912247</td>\n",
       "      <td>3</td>\n",
       "      <td>Overweight</td>\n",
       "    </tr>\n",
       "    <tr>\n",
       "      <th>4</th>\n",
       "      <td>60</td>\n",
       "      <td>Male</td>\n",
       "      <td>183.568568</td>\n",
       "      <td>69.038945</td>\n",
       "      <td>20.487903</td>\n",
       "      <td>3</td>\n",
       "      <td>Normal weight</td>\n",
       "    </tr>\n",
       "  </tbody>\n",
       "</table>\n",
       "</div>"
      ],
      "text/plain": [
       "   Age  Gender      Height     Weight        BMI  PhysicalActivityLevel  \\\n",
       "0   56    Male  173.575262  71.982051  23.891783                      4   \n",
       "1   69    Male  164.127306  89.959256  33.395209                      2   \n",
       "2   46  Female  168.072202  72.930629  25.817737                      4   \n",
       "3   32    Male  168.459633  84.886912  29.912247                      3   \n",
       "4   60    Male  183.568568  69.038945  20.487903                      3   \n",
       "\n",
       "  ObesityCategory  \n",
       "0   Normal weight  \n",
       "1           Obese  \n",
       "2      Overweight  \n",
       "3      Overweight  \n",
       "4   Normal weight  "
      ]
     },
     "execution_count": 27,
     "metadata": {},
     "output_type": "execute_result"
    }
   ],
   "source": [
    "dataset = pd.read_csv('obesity_data.csv')\n",
    "dataset.head()"
   ]
  },
  {
   "cell_type": "code",
   "execution_count": 28,
   "metadata": {
    "id": "94jxHnpfcryp"
   },
   "outputs": [
    {
     "data": {
      "text/html": [
       "<div>\n",
       "<style scoped>\n",
       "    .dataframe tbody tr th:only-of-type {\n",
       "        vertical-align: middle;\n",
       "    }\n",
       "\n",
       "    .dataframe tbody tr th {\n",
       "        vertical-align: top;\n",
       "    }\n",
       "\n",
       "    .dataframe thead th {\n",
       "        text-align: right;\n",
       "    }\n",
       "</style>\n",
       "<table border=\"1\" class=\"dataframe\">\n",
       "  <thead>\n",
       "    <tr style=\"text-align: right;\">\n",
       "      <th></th>\n",
       "      <th>Age</th>\n",
       "      <th>Height</th>\n",
       "      <th>Weight</th>\n",
       "      <th>BMI</th>\n",
       "      <th>PhysicalActivityLevel</th>\n",
       "    </tr>\n",
       "  </thead>\n",
       "  <tbody>\n",
       "    <tr>\n",
       "      <th>count</th>\n",
       "      <td>1000.000000</td>\n",
       "      <td>1000.000000</td>\n",
       "      <td>1000.000000</td>\n",
       "      <td>1000.000000</td>\n",
       "      <td>1000.000000</td>\n",
       "    </tr>\n",
       "    <tr>\n",
       "      <th>mean</th>\n",
       "      <td>49.857000</td>\n",
       "      <td>170.052417</td>\n",
       "      <td>71.205769</td>\n",
       "      <td>24.888317</td>\n",
       "      <td>2.534000</td>\n",
       "    </tr>\n",
       "    <tr>\n",
       "      <th>std</th>\n",
       "      <td>18.114267</td>\n",
       "      <td>10.309971</td>\n",
       "      <td>15.509849</td>\n",
       "      <td>6.193912</td>\n",
       "      <td>1.116284</td>\n",
       "    </tr>\n",
       "    <tr>\n",
       "      <th>min</th>\n",
       "      <td>18.000000</td>\n",
       "      <td>136.115719</td>\n",
       "      <td>26.065730</td>\n",
       "      <td>8.470572</td>\n",
       "      <td>1.000000</td>\n",
       "    </tr>\n",
       "    <tr>\n",
       "      <th>25%</th>\n",
       "      <td>35.000000</td>\n",
       "      <td>163.514205</td>\n",
       "      <td>61.129629</td>\n",
       "      <td>20.918068</td>\n",
       "      <td>2.000000</td>\n",
       "    </tr>\n",
       "    <tr>\n",
       "      <th>50%</th>\n",
       "      <td>50.000000</td>\n",
       "      <td>169.801665</td>\n",
       "      <td>71.929072</td>\n",
       "      <td>24.698647</td>\n",
       "      <td>3.000000</td>\n",
       "    </tr>\n",
       "    <tr>\n",
       "      <th>75%</th>\n",
       "      <td>66.000000</td>\n",
       "      <td>177.353596</td>\n",
       "      <td>81.133746</td>\n",
       "      <td>28.732132</td>\n",
       "      <td>4.000000</td>\n",
       "    </tr>\n",
       "    <tr>\n",
       "      <th>max</th>\n",
       "      <td>79.000000</td>\n",
       "      <td>201.419670</td>\n",
       "      <td>118.907366</td>\n",
       "      <td>50.791898</td>\n",
       "      <td>4.000000</td>\n",
       "    </tr>\n",
       "  </tbody>\n",
       "</table>\n",
       "</div>"
      ],
      "text/plain": [
       "               Age       Height       Weight          BMI  \\\n",
       "count  1000.000000  1000.000000  1000.000000  1000.000000   \n",
       "mean     49.857000   170.052417    71.205769    24.888317   \n",
       "std      18.114267    10.309971    15.509849     6.193912   \n",
       "min      18.000000   136.115719    26.065730     8.470572   \n",
       "25%      35.000000   163.514205    61.129629    20.918068   \n",
       "50%      50.000000   169.801665    71.929072    24.698647   \n",
       "75%      66.000000   177.353596    81.133746    28.732132   \n",
       "max      79.000000   201.419670   118.907366    50.791898   \n",
       "\n",
       "       PhysicalActivityLevel  \n",
       "count            1000.000000  \n",
       "mean                2.534000  \n",
       "std                 1.116284  \n",
       "min                 1.000000  \n",
       "25%                 2.000000  \n",
       "50%                 3.000000  \n",
       "75%                 4.000000  \n",
       "max                 4.000000  "
      ]
     },
     "execution_count": 28,
     "metadata": {},
     "output_type": "execute_result"
    }
   ],
   "source": [
    "# Data Exploration\n",
    "dataset.describe()"
   ]
  },
  {
   "cell_type": "code",
   "execution_count": 29,
   "metadata": {
    "id": "MDMrA9iactzs"
   },
   "outputs": [
    {
     "name": "stdout",
     "output_type": "stream",
     "text": [
      "<class 'pandas.core.frame.DataFrame'>\n",
      "RangeIndex: 1000 entries, 0 to 999\n",
      "Data columns (total 7 columns):\n",
      " #   Column                 Non-Null Count  Dtype  \n",
      "---  ------                 --------------  -----  \n",
      " 0   Age                    1000 non-null   int64  \n",
      " 1   Gender                 1000 non-null   object \n",
      " 2   Height                 1000 non-null   float64\n",
      " 3   Weight                 1000 non-null   float64\n",
      " 4   BMI                    1000 non-null   float64\n",
      " 5   PhysicalActivityLevel  1000 non-null   int64  \n",
      " 6   ObesityCategory        1000 non-null   object \n",
      "dtypes: float64(3), int64(2), object(2)\n",
      "memory usage: 54.8+ KB\n"
     ]
    }
   ],
   "source": [
    "dataset.info()"
   ]
  },
  {
   "cell_type": "code",
   "execution_count": 30,
   "metadata": {
    "id": "zO8m8ObScvim"
   },
   "outputs": [
    {
     "data": {
      "text/plain": [
       "Age                      0\n",
       "Gender                   0\n",
       "Height                   0\n",
       "Weight                   0\n",
       "BMI                      0\n",
       "PhysicalActivityLevel    0\n",
       "ObesityCategory          0\n",
       "dtype: int64"
      ]
     },
     "execution_count": 30,
     "metadata": {},
     "output_type": "execute_result"
    }
   ],
   "source": [
    "dataset.isnull().sum()"
   ]
  },
  {
   "cell_type": "code",
   "execution_count": 31,
   "metadata": {
    "id": "OwYfKGb0cw6R"
   },
   "outputs": [
    {
     "name": "stdout",
     "output_type": "stream",
     "text": [
      "<class 'pandas.core.frame.DataFrame'>\n",
      "RangeIndex: 1000 entries, 0 to 999\n",
      "Data columns (total 7 columns):\n",
      " #   Column                 Non-Null Count  Dtype  \n",
      "---  ------                 --------------  -----  \n",
      " 0   Age                    1000 non-null   int64  \n",
      " 1   Gender                 1000 non-null   object \n",
      " 2   Height                 1000 non-null   float64\n",
      " 3   Weight                 1000 non-null   float64\n",
      " 4   BMI                    1000 non-null   float64\n",
      " 5   PhysicalActivityLevel  1000 non-null   int64  \n",
      " 6   ObesityCategory        1000 non-null   object \n",
      "dtypes: float64(3), int64(2), object(2)\n",
      "memory usage: 54.8+ KB\n"
     ]
    }
   ],
   "source": [
    "dataset.info()"
   ]
  },
  {
   "cell_type": "code",
   "execution_count": 32,
   "metadata": {},
   "outputs": [
    {
     "data": {
      "image/png": "[encoded data removed]",
      "text/plain": [
       "<Figure size 600x600 with 1 Axes>"
      ]
     },
     "metadata": {},
     "output_type": "display_data"
    }
   ],
   "source": [
    "plt.figure(figsize=(6, 6))  # Set the figure size\n",
    "sns.countplot(x=\"Gender\", data=dataset, palette=\"Set1\", hue='ObesityCategory')  # Use a visually appealing color palette\n",
    "plt.xlabel(\"Gender\")\n",
    "plt.ylabel(\"Count\")\n",
    "plt.title(\"Gender Distribution\")\n",
    "plt.show()"
   ]
  },
  {
   "cell_type": "code",
   "execution_count": 33,
   "metadata": {},
   "outputs": [
    {
     "name": "stdout",
     "output_type": "stream",
     "text": [
      "0.13.2\n"
     ]
    },
    {
     "data": {
      "image/png": "[encoded data removed]",
      "text/plain": [
       "<Figure size 640x480 with 2 Axes>"
      ]
     },
     "metadata": {},
     "output_type": "display_data"
    }
   ],
   "source": [
    "print(sns.__version__)\n",
    "corr = dataset.drop([\"Gender\", \"ObesityCategory\"], axis=1).corr()\n",
    "sns.heatmap(corr, annot=True)\n",
    "plt.show()"
   ]
  },
  {
   "cell_type": "code",
   "execution_count": 34,
   "metadata": {
    "id": "LLmnJ5zrb0OG"
   },
   "outputs": [],
   "source": [
    "#Label Encoding\n",
    "label_encoder = LabelEncoder()\n",
    "dataset['Gender'] = label_encoder.fit_transform(dataset['Gender'])"
   ]
  },
  {
   "cell_type": "code",
   "execution_count": 35,
   "metadata": {
    "id": "Zb6RcUx9b2jW"
   },
   "outputs": [],
   "source": [
    "X, y = dataset.drop(['ObesityCategory'], axis =1), dataset['ObesityCategory']"
   ]
  },
  {
   "cell_type": "markdown",
   "metadata": {},
   "source": [
    "<h5>Separating 20% of test data for later use. This is done not to overfit the model for test data</h5>"
   ]
  },
  {
   "cell_type": "code",
   "execution_count": 36,
   "metadata": {
    "id": "U_ffcu1Zb7PY"
   },
   "outputs": [],
   "source": [
    "### Split test data for later testing before training\n",
    "train, test, train_y, test_y = train_test_split(X, y, test_size=0.2, random_state=42, stratify=y)"
   ]
  },
  {
   "cell_type": "code",
   "execution_count": 37,
   "metadata": {},
   "outputs": [],
   "source": [
    "# Feature scaling\n",
    "#scaler = StandardScaler()\n",
    "#train = scaler.fit_transform(train)\n",
    "#test = scaler.transform(test)"
   ]
  },
  {
   "cell_type": "code",
   "execution_count": 38,
   "metadata": {
    "id": "9yfkuKsib-K2"
   },
   "outputs": [],
   "source": [
    "k_folds = 10\n",
    "stratified_kfold = StratifiedKFold(n_splits=k_folds, shuffle=True, random_state=42)"
   ]
  },
  {
   "cell_type": "markdown",
   "metadata": {},
   "source": [
    "<h5>Added different models to train on the dataset</h5>"
   ]
  },
  {
   "cell_type": "code",
   "execution_count": 39,
   "metadata": {},
   "outputs": [],
   "source": [
    "random_forest_classifier = RandomForestClassifier(random_state=42)\n",
    "decision_tree_classifier = DecisionTreeClassifier(random_state=42, splitter='best')\n",
    "knn = KNeighborsClassifier(n_neighbors=10)\n",
    "\n",
    "MODELS = [random_forest_classifier, decision_tree_classifier, knn]"
   ]
  },
  {
   "cell_type": "code",
   "execution_count": 40,
   "metadata": {
    "id": "08-nDRnFcAQd"
   },
   "outputs": [
    {
     "name": "stdout",
     "output_type": "stream",
     "text": [
      "RandomForestClassifier\n"
     ]
    },
    {
     "name": "stderr",
     "output_type": "stream",
     "text": [
      "Cross-validation:  20%|██        | 2/10 [00:00<00:01,  4.97it/s]"
     ]
    },
    {
     "name": "stdout",
     "output_type": "stream",
     "text": [
      "Training time for RandomForestClassifier is 0.21190094947814941\n",
      "Prediction time for RandomForestClassifier is 0.015583038330078125\n",
      "Training time for RandomForestClassifier is 0.18035268783569336\n",
      "Prediction time for RandomForestClassifier is 0.0\n"
     ]
    },
    {
     "name": "stderr",
     "output_type": "stream",
     "text": [
      "Cross-validation:  40%|████      | 4/10 [00:00<00:01,  5.15it/s]"
     ]
    },
    {
     "name": "stdout",
     "output_type": "stream",
     "text": [
      "Training time for RandomForestClassifier is 0.1843571662902832\n",
      "Prediction time for RandomForestClassifier is 0.008059024810791016\n",
      "Training time for RandomForestClassifier is 0.17342090606689453\n",
      "Prediction time for RandomForestClassifier is 0.015624761581420898\n"
     ]
    },
    {
     "name": "stderr",
     "output_type": "stream",
     "text": [
      "Cross-validation:  50%|█████     | 5/10 [00:01<00:01,  4.95it/s]"
     ]
    },
    {
     "name": "stdout",
     "output_type": "stream",
     "text": [
      "Training time for RandomForestClassifier is 0.2008359432220459\n",
      "Prediction time for RandomForestClassifier is 0.015571832656860352\n"
     ]
    },
    {
     "name": "stderr",
     "output_type": "stream",
     "text": [
      "Cross-validation:  70%|███████   | 7/10 [00:01<00:00,  4.90it/s]"
     ]
    },
    {
     "name": "stdout",
     "output_type": "stream",
     "text": [
      "Training time for RandomForestClassifier is 0.22246241569519043\n",
      "Prediction time for RandomForestClassifier is 0.006707906723022461\n",
      "Training time for RandomForestClassifier is 0.1719982624053955\n",
      "Prediction time for RandomForestClassifier is 0.015636444091796875\n"
     ]
    },
    {
     "name": "stderr",
     "output_type": "stream",
     "text": [
      "Cross-validation:  80%|████████  | 8/10 [00:01<00:00,  4.93it/s]"
     ]
    },
    {
     "name": "stdout",
     "output_type": "stream",
     "text": [
      "Training time for RandomForestClassifier is 0.19991207122802734\n",
      "Prediction time for RandomForestClassifier is 0.0\n",
      "Training time for RandomForestClassifier is 0.1864767074584961\n"
     ]
    },
    {
     "name": "stderr",
     "output_type": "stream",
     "text": [
      "Cross-validation:  90%|█████████ | 9/10 [00:01<00:00,  4.84it/s]"
     ]
    },
    {
     "name": "stdout",
     "output_type": "stream",
     "text": [
      "Prediction time for RandomForestClassifier is 0.02642679214477539\n",
      "Training time for RandomForestClassifier is 0.18279743194580078\n",
      "Prediction time for RandomForestClassifier is 0.01927781105041504\n"
     ]
    },
    {
     "name": "stderr",
     "output_type": "stream",
     "text": [
      "Cross-validation: 100%|██████████| 10/10 [00:02<00:00,  4.87it/s]\n"
     ]
    },
    {
     "name": "stdout",
     "output_type": "stream",
     "text": [
      "Average Accuracy: 99.64%\n",
      "[[74  0  0  0]\n",
      " [ 0 37  1  0]\n",
      " [ 0  0 59  0]\n",
      " [ 0  0  0 29]]\n",
      "               precision    recall  f1-score   support\n",
      "\n",
      "Normal weight       1.00      1.00      1.00        74\n",
      "        Obese       1.00      0.97      0.99        38\n",
      "   Overweight       0.98      1.00      0.99        59\n",
      "  Underweight       1.00      1.00      1.00        29\n",
      "\n",
      "     accuracy                           0.99       200\n",
      "    macro avg       1.00      0.99      0.99       200\n",
      " weighted avg       1.00      0.99      0.99       200\n",
      "\n",
      "DecisionTreeClassifier\n"
     ]
    },
    {
     "name": "stderr",
     "output_type": "stream",
     "text": [
      "Cross-validation: 100%|██████████| 10/10 [00:00<00:00, 170.94it/s]\n"
     ]
    },
    {
     "name": "stdout",
     "output_type": "stream",
     "text": [
      "Training time for DecisionTreeClassifier is 0.002271890640258789\n",
      "Prediction time for DecisionTreeClassifier is 0.004593372344970703\n",
      "Training time for DecisionTreeClassifier is 0.003998756408691406\n",
      "Prediction time for DecisionTreeClassifier is 0.0\n",
      "Training time for DecisionTreeClassifier is 0.0\n",
      "Prediction time for DecisionTreeClassifier is 0.0\n",
      "Training time for DecisionTreeClassifier is 0.0\n",
      "Prediction time for DecisionTreeClassifier is 0.0\n",
      "Training time for DecisionTreeClassifier is 0.01740264892578125\n",
      "Prediction time for DecisionTreeClassifier is 0.00099945068359375\n",
      "Training time for DecisionTreeClassifier is 0.0029969215393066406\n",
      "Prediction time for DecisionTreeClassifier is 0.0009992122650146484\n",
      "Training time for DecisionTreeClassifier is 0.0029578208923339844\n",
      "Prediction time for DecisionTreeClassifier is 0.0011723041534423828\n",
      "Training time for DecisionTreeClassifier is 0.0029981136322021484\n",
      "Prediction time for DecisionTreeClassifier is 0.0010006427764892578\n",
      "Training time for DecisionTreeClassifier is 0.003000974655151367\n",
      "Prediction time for DecisionTreeClassifier is 0.0010030269622802734\n",
      "Training time for DecisionTreeClassifier is 0.0030028820037841797\n",
      "Prediction time for DecisionTreeClassifier is 0.0009965896606445312\n",
      "Average Accuracy: 99.76%\n",
      "[[74  0  0  0]\n",
      " [ 0 38  0  0]\n",
      " [ 0  0 59  0]\n",
      " [ 0  0  0 29]]\n",
      "               precision    recall  f1-score   support\n",
      "\n",
      "Normal weight       1.00      1.00      1.00        74\n",
      "        Obese       1.00      1.00      1.00        38\n",
      "   Overweight       1.00      1.00      1.00        59\n",
      "  Underweight       1.00      1.00      1.00        29\n",
      "\n",
      "     accuracy                           1.00       200\n",
      "    macro avg       1.00      1.00      1.00       200\n",
      " weighted avg       1.00      1.00      1.00       200\n",
      "\n",
      "KNeighborsClassifier\n"
     ]
    },
    {
     "name": "stderr",
     "output_type": "stream",
     "text": [
      "Cross-validation:   0%|          | 0/10 [00:00<?, ?it/s]"
     ]
    },
    {
     "name": "stdout",
     "output_type": "stream",
     "text": [
      "Training time for KNeighborsClassifier is 0.0013179779052734375\n",
      "Prediction time for KNeighborsClassifier is 0.0\n",
      "Training time for KNeighborsClassifier is 0.015737533569335938\n",
      "Prediction time for KNeighborsClassifier is 0.003194093704223633\n",
      "Training time for KNeighborsClassifier is 0.0\n",
      "Prediction time for KNeighborsClassifier is 0.0147705078125\n",
      "Training time for KNeighborsClassifier is 0.003991603851318359\n",
      "Prediction time for KNeighborsClassifier is 0.0060002803802490234\n",
      "Training time for KNeighborsClassifier is 0.002176046371459961\n",
      "Prediction time for KNeighborsClassifier is 0.007087230682373047\n",
      "Training time for KNeighborsClassifier is 0.002002716064453125\n",
      "Prediction time for KNeighborsClassifier is 0.006997346878051758\n",
      "Training time for KNeighborsClassifier is 0.0\n",
      "Prediction time for KNeighborsClassifier is 0.0\n",
      "Training time for KNeighborsClassifier is 0.0\n"
     ]
    },
    {
     "name": "stderr",
     "output_type": "stream",
     "text": [
      "Cross-validation: 100%|██████████| 10/10 [00:00<00:00, 87.30it/s]\n"
     ]
    },
    {
     "name": "stdout",
     "output_type": "stream",
     "text": [
      "Prediction time for KNeighborsClassifier is 0.01566624641418457\n",
      "Training time for KNeighborsClassifier is 0.004648923873901367\n",
      "Prediction time for KNeighborsClassifier is 0.007833480834960938\n",
      "Training time for KNeighborsClassifier is 0.0\n",
      "Prediction time for KNeighborsClassifier is 0.0\n",
      "Average Accuracy: 90.36%\n",
      "[[73  0  1  0]\n",
      " [ 0 35  3  0]\n",
      " [ 4  2 53  0]\n",
      " [ 9  0  0 20]]\n",
      "               precision    recall  f1-score   support\n",
      "\n",
      "Normal weight       0.85      0.99      0.91        74\n",
      "        Obese       0.95      0.92      0.93        38\n",
      "   Overweight       0.93      0.90      0.91        59\n",
      "  Underweight       1.00      0.69      0.82        29\n",
      "\n",
      "     accuracy                           0.91       200\n",
      "    macro avg       0.93      0.87      0.89       200\n",
      " weighted avg       0.91      0.91      0.90       200\n",
      "\n"
     ]
    }
   ],
   "source": [
    "model_accuracies = []\n",
    "# Predict accuracy for each model\n",
    "for model in MODELS:\n",
    "    model_name = type(model).__name__\n",
    "    print(model_name)\n",
    "    accuracy_scores = []\n",
    "    ### Execute models with K-Fold validation only for training data, spliting it for train, validation and test\n",
    "    for train_index, test_index in tqdm(stratified_kfold.split(train, train_y), total=k_folds, desc=\"Cross-validation\"):\n",
    "        # Measure training time\n",
    "        start_time = time.time()\n",
    "        X_train, X_test = train.iloc[train_index], train.iloc[test_index]\n",
    "        y_train, y_test = train_y.iloc[train_index], train_y.iloc[test_index]\n",
    "        model.fit(X_train, y_train)\n",
    "        training_time = time.time() - start_time\n",
    "        print(\"Training time for {} is {}\".format(model_name, training_time))\n",
    "\n",
    "        # Measure prediction time\n",
    "        start_time = time.time()\n",
    "        y_pred = model.predict(X_test)\n",
    "        prediction_time = time.time() - start_time\n",
    "        print(\"Prediction time for {} is {}\".format(model_name, prediction_time))\n",
    "        \n",
    "        accuracy_score_model = round(accuracy_score(y_test, y_pred), 3)\n",
    "        accuracy_scores.append(accuracy_score_model)\n",
    "        \n",
    "\n",
    "    accuracy_score_avg = np.mean(accuracy_scores)\n",
    "    print(\"Average Accuracy: %.2f%%\" % (accuracy_score_avg * 100.0))\n",
    "    # Preodict the accuracy of actual test data\n",
    "    y_pred = model.predict(test)\n",
    "    accuracy_score_model = round(accuracy_score(test_y, y_pred), 3)\n",
    "    model_accuracies.append({\"Model\": model_name, \"Accuracy\": accuracy_score_model})\n",
    "    \n",
    "    print(confusion_matrix(test_y, y_pred))\n",
    "    print(classification_report(test_y, y_pred))"
   ]
  },
  {
   "cell_type": "code",
   "execution_count": 41,
   "metadata": {},
   "outputs": [
    {
     "name": "stdout",
     "output_type": "stream",
     "text": [
      "                    Model  Accuracy\n",
      "0  RandomForestClassifier     0.995\n",
      "1  DecisionTreeClassifier     1.000\n",
      "2    KNeighborsClassifier     0.905\n"
     ]
    },
    {
     "data": {
      "image/png": "[encoded data removed]",
      "text/plain": [
       "<Figure size 640x480 with 1 Axes>"
      ]
     },
     "metadata": {},
     "output_type": "display_data"
    }
   ],
   "source": [
    "model_accuracies_df = pd.DataFrame(model_accuracies)\n",
    "print(model_accuracies_df)\n",
    "sns.set_palette(\"Spectral\", n_colors=6, desat=0.8)\n",
    "\n",
    "score_plot = sns.barplot(data=model_accuracies_df, y=\"Accuracy\", x=\"Model\")\n",
    "\n",
    "# rotate the ticks 45 degrees for the sake of redability\n",
    "plt.xticks(rotation=45, horizontalalignment='right')\n",
    "plt.title(\"Test Accuracy Scores\",\n",
    "          fontweight=\"bold\")\n",
    "plt.xlabel(\"Model\", fontweight=\"bold\")\n",
    "plt.ylabel(\"Accuracy score\", fontweight=\"bold\")\n",
    "\n",
    "plt.show()"
   ]
  },
  {
   "cell_type": "code",
   "execution_count": null,
   "metadata": {},
   "outputs": [],
   "source": []
  }
 ],
 "metadata": {
  "colab": {
   "authorship_tag": "ABX9TyNz+dz5q7RNm1B4o70wY+LF",
   "provenance": []
  },
  "kernelspec": {
   "display_name": "Python 3 (ipykernel)",
   "language": "python",
   "name": "python3"
  },
  "language_info": {
   "codemirror_mode": {
    "name": "ipython",
    "version": 3
   },
   "file_extension": ".py",
   "mimetype": "text/x-python",
   "name": "python",
   "nbconvert_exporter": "python",
   "pygments_lexer": "ipython3",
   "version": "3.12.2"
  }
 },
 "nbformat": 4,
 "nbformat_minor": 4
}
